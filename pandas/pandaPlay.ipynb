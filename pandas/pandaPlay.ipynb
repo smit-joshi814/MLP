{
 "cells": [
  {
   "cell_type": "code",
   "execution_count": 2,
   "id": "d0614008",
   "metadata": {},
   "outputs": [],
   "source": [
    "# import pandas\n",
    "import pandas as pd"
   ]
  },
  {
   "cell_type": "code",
   "execution_count": 4,
   "id": "795cd3d4",
   "metadata": {},
   "outputs": [],
   "source": [
    "# reading data from file\n",
    "social_data=pd.read_csv(\"dummy_data.csv\")"
   ]
  },
  {
   "cell_type": "code",
   "execution_count": 11,
   "id": "e4ddc08f",
   "metadata": {},
   "outputs": [
    {
     "name": "stdout",
     "output_type": "stream",
     "text": [
      "FIRST 5 RECORDS\n",
      "   age      gender  time_spent   platform  interests        location  \\\n",
      "0   56        male           3  Instagram     Sports  United Kingdom   \n",
      "1   46      female           2   Facebook     Travel  United Kingdom   \n",
      "2   32        male           8  Instagram     Sports       Australia   \n",
      "3   60  non-binary           5  Instagram     Travel  United Kingdom   \n",
      "4   25        male           1  Instagram  Lifestlye       Australia   \n",
      "\n",
      "  demographics         profession  income  indebt  isHomeOwner  Owns_Car  \n",
      "0        Urban  Software Engineer   19774    True        False     False  \n",
      "1        Urban            Student   10564    True         True      True  \n",
      "2    Sub_Urban   Marketer Manager   13258   False        False     False  \n",
      "3        Urban            Student   12500   False         True     False  \n",
      "4        Urban  Software Engineer   14566   False         True      True  \n",
      "\n",
      "LAST 5 RECORDS\n",
      "     age      gender  time_spent   platform  interests        location  \\\n",
      "995   22      female           8  Instagram  Lifestlye  United Kingdom   \n",
      "996   40  non-binary           6    YouTube     Travel  United Kingdom   \n",
      "997   27  non-binary           5    YouTube     Travel  United Kingdom   \n",
      "998   61      female           4    YouTube     Sports       Australia   \n",
      "999   19      female           8    YouTube     Travel       Australia   \n",
      "\n",
      "    demographics         profession  income  indebt  isHomeOwner  Owns_Car  \n",
      "995        Rural   Marketer Manager   18536   False         True     False  \n",
      "996        Rural  Software Engineer   12711    True        False     False  \n",
      "997        Rural            Student   17595    True        False      True  \n",
      "998    Sub_Urban   Marketer Manager   16273    True         True     False  \n",
      "999        Rural            Student   16284   False         True     False  \n"
     ]
    }
   ],
   "source": [
    "#printing first 5 records\n",
    "print(\"FIRST 5 RECORDS\")\n",
    "print(f\"{social_data.head()}\")\n",
    "\n",
    "print(\"\\nLAST 5 RECORDS\")\n",
    "print(f\"{social_data.tail()}\")"
   ]
  },
  {
   "cell_type": "code",
   "execution_count": 16,
   "id": "8f853eef",
   "metadata": {},
   "outputs": [
    {
     "name": "stdout",
     "output_type": "stream",
     "text": [
      "age                         46\n",
      "gender                  female\n",
      "time_spent                   2\n",
      "platform              Facebook\n",
      "interests               Travel\n",
      "location        United Kingdom\n",
      "demographics             Urban\n",
      "profession             Student\n",
      "income                   10564\n",
      "indebt                    True\n",
      "isHomeOwner               True\n",
      "Owns_Car                  True\n",
      "Name: 1, dtype: object\n",
      "<class 'pandas.core.frame.DataFrame'>\n",
      "RangeIndex: 1000 entries, 0 to 999\n",
      "Data columns (total 12 columns):\n",
      " #   Column        Non-Null Count  Dtype \n",
      "---  ------        --------------  ----- \n",
      " 0   age           1000 non-null   int64 \n",
      " 1   gender        1000 non-null   object\n",
      " 2   time_spent    1000 non-null   int64 \n",
      " 3   platform      1000 non-null   object\n",
      " 4   interests     1000 non-null   object\n",
      " 5   location      1000 non-null   object\n",
      " 6   demographics  1000 non-null   object\n",
      " 7   profession    1000 non-null   object\n",
      " 8   income        1000 non-null   int64 \n",
      " 9   indebt        1000 non-null   bool  \n",
      " 10  isHomeOwner   1000 non-null   bool  \n",
      " 11  Owns_Car      1000 non-null   bool  \n",
      "dtypes: bool(3), int64(3), object(6)\n",
      "memory usage: 73.4+ KB\n",
      "\n",
      "INFO ABOUT DATA \n",
      " None\n"
     ]
    }
   ],
   "source": [
    "#fatching any single row\n",
    "print(f\"{social_data.loc[1]}\")\n",
    "\n",
    "#info\n",
    "print(\"\\nINFO ABOUT DATA \\n\",social_data.info())"
   ]
  },
  {
   "cell_type": "code",
   "execution_count": null,
   "id": "870e82bb",
   "metadata": {},
   "outputs": [],
   "source": []
  }
 ],
 "metadata": {
  "kernelspec": {
   "display_name": "Python 3 (ipykernel)",
   "language": "python",
   "name": "python3"
  },
  "language_info": {
   "codemirror_mode": {
    "name": "ipython",
    "version": 3
   },
   "file_extension": ".py",
   "mimetype": "text/x-python",
   "name": "python",
   "nbconvert_exporter": "python",
   "pygments_lexer": "ipython3",
   "version": "3.11.5"
  }
 },
 "nbformat": 4,
 "nbformat_minor": 5
}
