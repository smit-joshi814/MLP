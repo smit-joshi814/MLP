{
 "cells": [
  {
   "cell_type": "code",
   "execution_count": 1,
   "metadata": {},
   "outputs": [],
   "source": [
    "# Pandas\n",
    "import pandas as pd"
   ]
  },
  {
   "cell_type": "code",
   "execution_count": 3,
   "metadata": {},
   "outputs": [
    {
     "data": {
      "text/html": [
       "<div>\n",
       "<style scoped>\n",
       "    .dataframe tbody tr th:only-of-type {\n",
       "        vertical-align: middle;\n",
       "    }\n",
       "\n",
       "    .dataframe tbody tr th {\n",
       "        vertical-align: top;\n",
       "    }\n",
       "\n",
       "    .dataframe thead th {\n",
       "        text-align: right;\n",
       "    }\n",
       "</style>\n",
       "<table border=\"1\" class=\"dataframe\">\n",
       "  <thead>\n",
       "    <tr style=\"text-align: right;\">\n",
       "      <th></th>\n",
       "      <th>Rating</th>\n",
       "      <th>Company Name</th>\n",
       "      <th>Job Title</th>\n",
       "      <th>Salary</th>\n",
       "      <th>Salaries Reported</th>\n",
       "      <th>Location</th>\n",
       "      <th>Employment Status</th>\n",
       "      <th>Job Roles</th>\n",
       "    </tr>\n",
       "  </thead>\n",
       "  <tbody>\n",
       "    <tr>\n",
       "      <th>0</th>\n",
       "      <td>3.8</td>\n",
       "      <td>Sasken</td>\n",
       "      <td>Android Developer</td>\n",
       "      <td>400000</td>\n",
       "      <td>3</td>\n",
       "      <td>Bangalore</td>\n",
       "      <td>Full Time</td>\n",
       "      <td>Android</td>\n",
       "    </tr>\n",
       "    <tr>\n",
       "      <th>1</th>\n",
       "      <td>4.5</td>\n",
       "      <td>Advanced Millennium Technologies</td>\n",
       "      <td>Android Developer</td>\n",
       "      <td>400000</td>\n",
       "      <td>3</td>\n",
       "      <td>Bangalore</td>\n",
       "      <td>Full Time</td>\n",
       "      <td>Android</td>\n",
       "    </tr>\n",
       "    <tr>\n",
       "      <th>2</th>\n",
       "      <td>4.0</td>\n",
       "      <td>Unacademy</td>\n",
       "      <td>Android Developer</td>\n",
       "      <td>1000000</td>\n",
       "      <td>3</td>\n",
       "      <td>Bangalore</td>\n",
       "      <td>Full Time</td>\n",
       "      <td>Android</td>\n",
       "    </tr>\n",
       "    <tr>\n",
       "      <th>3</th>\n",
       "      <td>3.8</td>\n",
       "      <td>SnapBizz Cloudtech</td>\n",
       "      <td>Android Developer</td>\n",
       "      <td>300000</td>\n",
       "      <td>3</td>\n",
       "      <td>Bangalore</td>\n",
       "      <td>Full Time</td>\n",
       "      <td>Android</td>\n",
       "    </tr>\n",
       "    <tr>\n",
       "      <th>4</th>\n",
       "      <td>4.4</td>\n",
       "      <td>Appoids Tech Solutions</td>\n",
       "      <td>Android Developer</td>\n",
       "      <td>600000</td>\n",
       "      <td>3</td>\n",
       "      <td>Bangalore</td>\n",
       "      <td>Full Time</td>\n",
       "      <td>Android</td>\n",
       "    </tr>\n",
       "  </tbody>\n",
       "</table>\n",
       "</div>"
      ],
      "text/plain": [
       "   Rating                      Company Name          Job Title   Salary  \\\n",
       "0     3.8                            Sasken  Android Developer   400000   \n",
       "1     4.5  Advanced Millennium Technologies  Android Developer   400000   \n",
       "2     4.0                         Unacademy  Android Developer  1000000   \n",
       "3     3.8                SnapBizz Cloudtech  Android Developer   300000   \n",
       "4     4.4            Appoids Tech Solutions  Android Developer   600000   \n",
       "\n",
       "   Salaries Reported   Location Employment Status Job Roles  \n",
       "0                  3  Bangalore         Full Time   Android  \n",
       "1                  3  Bangalore         Full Time   Android  \n",
       "2                  3  Bangalore         Full Time   Android  \n",
       "3                  3  Bangalore         Full Time   Android  \n",
       "4                  3  Bangalore         Full Time   Android  "
      ]
     },
     "execution_count": 3,
     "metadata": {},
     "output_type": "execute_result"
    }
   ],
   "source": [
    "data = pd.read_csv(\"salary/salary_features.csv\")\n",
    "data.dropna(inplace=True)\n",
    "data.head()"
   ]
  }
 ],
 "metadata": {
  "kernelspec": {
   "display_name": "Python 3",
   "language": "python",
   "name": "python3"
  },
  "language_info": {
   "codemirror_mode": {
    "name": "ipython",
    "version": 3
   },
   "file_extension": ".py",
   "mimetype": "text/x-python",
   "name": "python",
   "nbconvert_exporter": "python",
   "pygments_lexer": "ipython3",
   "version": "3.10.13"
  }
 },
 "nbformat": 4,
 "nbformat_minor": 2
}
