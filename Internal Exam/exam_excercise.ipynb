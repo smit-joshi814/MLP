{
 "cells": [
  {
   "cell_type": "code",
   "execution_count": 9,
   "id": "669174c8",
   "metadata": {},
   "outputs": [],
   "source": [
    "import numpy as np"
   ]
  },
  {
   "cell_type": "code",
   "execution_count": 19,
   "id": "28b929cd",
   "metadata": {},
   "outputs": [
    {
     "data": {
      "text/plain": [
       "array([[1, 2, 3, 4, 5],\n",
       "       [1, 2, 3, 4, 5]])"
      ]
     },
     "execution_count": 19,
     "metadata": {},
     "output_type": "execute_result"
    }
   ],
   "source": [
    "a = np.array([[1,2,3,4,5],[1,2,3,4,5]])\n",
    "a"
   ]
  },
  {
   "cell_type": "code",
   "execution_count": 20,
   "id": "af0a4c03",
   "metadata": {},
   "outputs": [
    {
     "data": {
      "text/plain": [
       "dtype('int32')"
      ]
     },
     "execution_count": 20,
     "metadata": {},
     "output_type": "execute_result"
    }
   ],
   "source": [
    "a.dtype"
   ]
  },
  {
   "cell_type": "code",
   "execution_count": 21,
   "id": "845d1b50",
   "metadata": {},
   "outputs": [
    {
     "data": {
      "text/plain": [
       "(2, 5)"
      ]
     },
     "execution_count": 21,
     "metadata": {},
     "output_type": "execute_result"
    }
   ],
   "source": [
    "a.shape"
   ]
  },
  {
   "cell_type": "code",
   "execution_count": 22,
   "id": "ed8bbdaa",
   "metadata": {},
   "outputs": [
    {
     "data": {
      "text/plain": [
       "4"
      ]
     },
     "execution_count": 22,
     "metadata": {},
     "output_type": "execute_result"
    }
   ],
   "source": [
    "a.itemsize"
   ]
  },
  {
   "cell_type": "code",
   "execution_count": 140,
   "id": "dc6c0f4a",
   "metadata": {},
   "outputs": [
    {
     "name": "stdout",
     "output_type": "stream",
     "text": [
      "[[1 3 1]\n",
      " [3 2 3]] [[10 20 30]\n",
      " [10 20 30]]\n"
     ]
    }
   ],
   "source": [
    "a1 = np.array([[1,3,1],[3,2,3]])\n",
    "a2 = np.array([[10,20,30],[10,20,30]])\n",
    "print(a1,a2)"
   ]
  },
  {
   "cell_type": "code",
   "execution_count": 27,
   "id": "b37aa0eb",
   "metadata": {},
   "outputs": [
    {
     "data": {
      "text/plain": [
       "array([1, 2, 3, 4, 5])"
      ]
     },
     "execution_count": 27,
     "metadata": {},
     "output_type": "execute_result"
    }
   ],
   "source": [
    "np.array([1,2,3,4,5])"
   ]
  },
  {
   "cell_type": "code",
   "execution_count": 29,
   "id": "96001aab",
   "metadata": {},
   "outputs": [
    {
     "data": {
      "text/plain": [
       "array([[11, 23, 31],\n",
       "       [13, 22, 33]])"
      ]
     },
     "execution_count": 29,
     "metadata": {},
     "output_type": "execute_result"
    }
   ],
   "source": [
    "np.add(a1,a2)"
   ]
  },
  {
   "cell_type": "code",
   "execution_count": 30,
   "id": "4be0bd00",
   "metadata": {},
   "outputs": [
    {
     "data": {
      "text/plain": [
       "array([[10, 60, 30],\n",
       "       [30, 40, 90]])"
      ]
     },
     "execution_count": 30,
     "metadata": {},
     "output_type": "execute_result"
    }
   ],
   "source": [
    "np.multiply(a1,a2)"
   ]
  },
  {
   "cell_type": "code",
   "execution_count": 34,
   "id": "b07f84e0",
   "metadata": {},
   "outputs": [
    {
     "data": {
      "text/plain": [
       "array([[          1,  -808182895,           1],\n",
       "       [      59049,     1048576, -1010140999]])"
      ]
     },
     "execution_count": 34,
     "metadata": {},
     "output_type": "execute_result"
    }
   ],
   "source": [
    "np.power(a1,a2)"
   ]
  },
  {
   "cell_type": "code",
   "execution_count": 35,
   "id": "17c03a3e",
   "metadata": {},
   "outputs": [
    {
     "data": {
      "text/plain": [
       "array([[1, 3, 1],\n",
       "       [3, 2, 3]])"
      ]
     },
     "execution_count": 35,
     "metadata": {},
     "output_type": "execute_result"
    }
   ],
   "source": [
    "np.mod(a1,a2)"
   ]
  },
  {
   "cell_type": "code",
   "execution_count": 36,
   "id": "489b67f9",
   "metadata": {},
   "outputs": [
    {
     "data": {
      "text/plain": [
       "array([[1, 3, 1],\n",
       "       [3, 2, 3]])"
      ]
     },
     "execution_count": 36,
     "metadata": {},
     "output_type": "execute_result"
    }
   ],
   "source": [
    "np.abs(a1,a2)"
   ]
  },
  {
   "cell_type": "code",
   "execution_count": 42,
   "id": "a4337bf4",
   "metadata": {},
   "outputs": [],
   "source": [
    "arr=np.array(['a','v','d'])"
   ]
  },
  {
   "cell_type": "code",
   "execution_count": 44,
   "id": "cbee3e0a",
   "metadata": {},
   "outputs": [
    {
     "data": {
      "text/plain": [
       "1"
      ]
     },
     "execution_count": 44,
     "metadata": {},
     "output_type": "execute_result"
    }
   ],
   "source": [
    "arr.ndim"
   ]
  },
  {
   "cell_type": "code",
   "execution_count": 46,
   "id": "2a70bfb3",
   "metadata": {},
   "outputs": [
    {
     "data": {
      "text/plain": [
       "3"
      ]
     },
     "execution_count": 46,
     "metadata": {},
     "output_type": "execute_result"
    }
   ],
   "source": [
    "arr.size"
   ]
  },
  {
   "cell_type": "code",
   "execution_count": 47,
   "id": "d213edb7",
   "metadata": {},
   "outputs": [
    {
     "data": {
      "text/plain": [
       "(3,)"
      ]
     },
     "execution_count": 47,
     "metadata": {},
     "output_type": "execute_result"
    }
   ],
   "source": [
    "arr.shape"
   ]
  },
  {
   "cell_type": "code",
   "execution_count": 48,
   "id": "a9f06704",
   "metadata": {},
   "outputs": [
    {
     "data": {
      "text/plain": [
       "dtype('<U1')"
      ]
     },
     "execution_count": 48,
     "metadata": {},
     "output_type": "execute_result"
    }
   ],
   "source": [
    "arr.dtype"
   ]
  },
  {
   "cell_type": "code",
   "execution_count": 49,
   "id": "1223c30e",
   "metadata": {},
   "outputs": [
    {
     "data": {
      "text/plain": [
       "4"
      ]
     },
     "execution_count": 49,
     "metadata": {},
     "output_type": "execute_result"
    }
   ],
   "source": [
    "arr.itemsize"
   ]
  },
  {
   "cell_type": "code",
   "execution_count": 51,
   "id": "d8796737",
   "metadata": {},
   "outputs": [
    {
     "data": {
      "text/plain": [
       "array([[0., 0., 0., 0.],\n",
       "       [0., 0., 0., 0.],\n",
       "       [0., 0., 0., 0.],\n",
       "       [0., 0., 0., 0.]])"
      ]
     },
     "execution_count": 51,
     "metadata": {},
     "output_type": "execute_result"
    }
   ],
   "source": [
    "np.zeros((4,4))"
   ]
  },
  {
   "cell_type": "code",
   "execution_count": 52,
   "id": "d414bb50",
   "metadata": {},
   "outputs": [
    {
     "data": {
      "text/plain": [
       "array([[1., 1., 1.],\n",
       "       [1., 1., 1.],\n",
       "       [1., 1., 1.]])"
      ]
     },
     "execution_count": 52,
     "metadata": {},
     "output_type": "execute_result"
    }
   ],
   "source": [
    "np.ones((3,3))"
   ]
  },
  {
   "cell_type": "code",
   "execution_count": 54,
   "id": "644b3f60",
   "metadata": {},
   "outputs": [
    {
     "data": {
      "text/plain": [
       "array([[1., 1., 1.],\n",
       "       [1., 1., 1.],\n",
       "       [1., 1., 1.]])"
      ]
     },
     "execution_count": 54,
     "metadata": {},
     "output_type": "execute_result"
    }
   ],
   "source": [
    "np.empty((3,3))"
   ]
  },
  {
   "cell_type": "code",
   "execution_count": 57,
   "id": "315598b6",
   "metadata": {},
   "outputs": [
    {
     "data": {
      "text/plain": [
       "array([1, 2, 3, 4])"
      ]
     },
     "execution_count": 57,
     "metadata": {},
     "output_type": "execute_result"
    }
   ],
   "source": [
    "np.arange(1,5,1)"
   ]
  },
  {
   "cell_type": "code",
   "execution_count": 61,
   "id": "2c148a0c",
   "metadata": {},
   "outputs": [
    {
     "data": {
      "text/plain": [
       "array([1.        , 1.16666667, 1.33333333, 1.5       , 1.66666667,\n",
       "       1.83333333, 2.        ])"
      ]
     },
     "execution_count": 61,
     "metadata": {},
     "output_type": "execute_result"
    }
   ],
   "source": [
    "np.linspace(1,2,7)"
   ]
  },
  {
   "cell_type": "code",
   "execution_count": 62,
   "id": "08ccc9ae",
   "metadata": {},
   "outputs": [
    {
     "data": {
      "text/plain": [
       "array([[0.42598427, 0.26434487, 0.65806609, 0.81539531, 0.94282581]])"
      ]
     },
     "execution_count": 62,
     "metadata": {},
     "output_type": "execute_result"
    }
   ],
   "source": [
    "np.random.random((1,5))"
   ]
  },
  {
   "cell_type": "code",
   "execution_count": 69,
   "id": "887db123",
   "metadata": {},
   "outputs": [],
   "source": [
    "demo=np.array([[10,20,30],[40,50,60]])"
   ]
  },
  {
   "cell_type": "code",
   "execution_count": 92,
   "id": "c62b2d71",
   "metadata": {},
   "outputs": [
    {
     "data": {
      "text/plain": [
       "array([[10, 20, 30]])"
      ]
     },
     "execution_count": 92,
     "metadata": {},
     "output_type": "execute_result"
    }
   ],
   "source": [
    "demo[0:1,::1]"
   ]
  },
  {
   "cell_type": "code",
   "execution_count": 94,
   "id": "99428557",
   "metadata": {},
   "outputs": [
    {
     "data": {
      "text/plain": [
       "210"
      ]
     },
     "execution_count": 94,
     "metadata": {},
     "output_type": "execute_result"
    }
   ],
   "source": [
    "demo.sum()"
   ]
  },
  {
   "cell_type": "code",
   "execution_count": 96,
   "id": "3c7a00cc",
   "metadata": {},
   "outputs": [
    {
     "data": {
      "text/plain": [
       "array([[3.16227766, 4.47213595, 5.47722558],\n",
       "       [6.32455532, 7.07106781, 7.74596669]])"
      ]
     },
     "execution_count": 96,
     "metadata": {},
     "output_type": "execute_result"
    }
   ],
   "source": [
    "np.sqrt(demo)"
   ]
  },
  {
   "cell_type": "code",
   "execution_count": 97,
   "id": "eb06d5cb",
   "metadata": {},
   "outputs": [
    {
     "data": {
      "text/plain": [
       "array([[ 20,  70,  90],\n",
       "       [ 50, 100, 120]])"
      ]
     },
     "execution_count": 97,
     "metadata": {},
     "output_type": "execute_result"
    }
   ],
   "source": [
    "demo+[10,50,60]"
   ]
  },
  {
   "cell_type": "code",
   "execution_count": 125,
   "id": "73557aea",
   "metadata": {},
   "outputs": [
    {
     "data": {
      "text/plain": [
       "array([[4, 5, 6],\n",
       "       [1, 2, 3],\n",
       "       [7, 8, 9]])"
      ]
     },
     "execution_count": 125,
     "metadata": {},
     "output_type": "execute_result"
    }
   ],
   "source": [
    "m1 = np.array([[1,2,3],[4,5,6],[7,8,9]])\n",
    "m2 = np.array([[4,5,6],[1,2,3],[7,8,9]])\n",
    "m3 = np.dot(m1,m2)\n",
    "\n",
    "m2"
   ]
  },
  {
   "cell_type": "code",
   "execution_count": 103,
   "id": "5d6fb8bc",
   "metadata": {},
   "outputs": [
    {
     "data": {
      "text/plain": [
       "array([[1, 4, 7],\n",
       "       [2, 5, 8],\n",
       "       [3, 6, 9]])"
      ]
     },
     "execution_count": 103,
     "metadata": {},
     "output_type": "execute_result"
    }
   ],
   "source": [
    "m1.T"
   ]
  },
  {
   "cell_type": "code",
   "execution_count": 108,
   "id": "cd1e2ed1",
   "metadata": {},
   "outputs": [
    {
     "data": {
      "text/plain": [
       "False"
      ]
     },
     "execution_count": 108,
     "metadata": {},
     "output_type": "execute_result"
    }
   ],
   "source": [
    "bol = np.array([[True,False],[True,False]])\n",
    "np.all(bol)"
   ]
  },
  {
   "cell_type": "code",
   "execution_count": 109,
   "id": "1ae92063",
   "metadata": {},
   "outputs": [
    {
     "data": {
      "text/plain": [
       "array([ True, False])"
      ]
     },
     "execution_count": 109,
     "metadata": {},
     "output_type": "execute_result"
    }
   ],
   "source": [
    "np.all(bol,axis=0)"
   ]
  },
  {
   "cell_type": "code",
   "execution_count": 110,
   "id": "0cc9be9b",
   "metadata": {},
   "outputs": [
    {
     "data": {
      "text/plain": [
       "array([False, False])"
      ]
     },
     "execution_count": 110,
     "metadata": {},
     "output_type": "execute_result"
    }
   ],
   "source": [
    "np.all(bol,axis=1)"
   ]
  },
  {
   "cell_type": "code",
   "execution_count": 112,
   "id": "8110b5e8",
   "metadata": {},
   "outputs": [
    {
     "data": {
      "text/plain": [
       "True"
      ]
     },
     "execution_count": 112,
     "metadata": {},
     "output_type": "execute_result"
    }
   ],
   "source": [
    "np.any(bol)"
   ]
  },
  {
   "cell_type": "code",
   "execution_count": 115,
   "id": "c91d4f41",
   "metadata": {},
   "outputs": [
    {
     "data": {
      "text/plain": [
       "array([ True, False])"
      ]
     },
     "execution_count": 115,
     "metadata": {},
     "output_type": "execute_result"
    }
   ],
   "source": [
    "np.any(bol,axis=0)"
   ]
  },
  {
   "cell_type": "code",
   "execution_count": 117,
   "id": "2df1f287",
   "metadata": {},
   "outputs": [
    {
     "data": {
      "text/plain": [
       "array([ True,  True])"
      ]
     },
     "execution_count": 117,
     "metadata": {},
     "output_type": "execute_result"
    }
   ],
   "source": [
    "np.any(bol,axis=1)"
   ]
  },
  {
   "cell_type": "code",
   "execution_count": 120,
   "id": "f8b61c61",
   "metadata": {},
   "outputs": [
    {
     "data": {
      "text/plain": [
       "array([0, 1, 2, 3, 4, 5, 6])"
      ]
     },
     "execution_count": 120,
     "metadata": {},
     "output_type": "execute_result"
    }
   ],
   "source": [
    "np.arange(7)"
   ]
  },
  {
   "cell_type": "code",
   "execution_count": 124,
   "id": "8b9d7cf4",
   "metadata": {},
   "outputs": [
    {
     "data": {
      "text/plain": [
       "array([[0, 1, 2, 3],\n",
       "       [4, 5, 6, 7]])"
      ]
     },
     "execution_count": 124,
     "metadata": {},
     "output_type": "execute_result"
    }
   ],
   "source": [
    "np.arange(8).reshape(2,4)"
   ]
  },
  {
   "cell_type": "code",
   "execution_count": 128,
   "id": "19dd5695",
   "metadata": {},
   "outputs": [
    {
     "data": {
      "text/plain": [
       "array([[  1,   2,   3],\n",
       "       [  4,   5,   6],\n",
       "       [  7,   8,   9],\n",
       "       [  4,   5,   6],\n",
       "       [  1,   2,   3],\n",
       "       [  7,   8,   9],\n",
       "       [ 27,  33,  39],\n",
       "       [ 63,  78,  93],\n",
       "       [ 99, 123, 147]])"
      ]
     },
     "execution_count": 128,
     "metadata": {},
     "output_type": "execute_result"
    }
   ],
   "source": [
    "np.vstack((m1,m2,m3))"
   ]
  },
  {
   "cell_type": "code",
   "execution_count": 130,
   "id": "8a38bd00",
   "metadata": {},
   "outputs": [
    {
     "data": {
      "text/plain": [
       "array([[  1,   2,   3,   4,   5,   6,  27,  33,  39],\n",
       "       [  4,   5,   6,   1,   2,   3,  63,  78,  93],\n",
       "       [  7,   8,   9,   7,   8,   9,  99, 123, 147]])"
      ]
     },
     "execution_count": 130,
     "metadata": {},
     "output_type": "execute_result"
    }
   ],
   "source": [
    "np.hstack((m1,m2,m3))"
   ]
  },
  {
   "cell_type": "code",
   "execution_count": 134,
   "id": "7ff84edf",
   "metadata": {},
   "outputs": [
    {
     "data": {
      "text/plain": [
       "[array([[1, 2, 3],\n",
       "        [4, 5, 6],\n",
       "        [7, 8, 9]]),\n",
       " array([[4, 5, 6],\n",
       "        [1, 2, 3],\n",
       "        [7, 8, 9]]),\n",
       " array([[ 27,  33,  39],\n",
       "        [ 63,  78,  93],\n",
       "        [ 99, 123, 147]])]"
      ]
     },
     "execution_count": 134,
     "metadata": {},
     "output_type": "execute_result"
    }
   ],
   "source": [
    "np.hsplit(np.hstack((m1,m2,m3)),3)"
   ]
  },
  {
   "cell_type": "code",
   "execution_count": 136,
   "id": "1e9f3bba",
   "metadata": {},
   "outputs": [
    {
     "data": {
      "text/plain": [
       "[array([[1, 2, 3],\n",
       "        [4, 5, 6],\n",
       "        [7, 8, 9]]),\n",
       " array([[4, 5, 6],\n",
       "        [1, 2, 3],\n",
       "        [7, 8, 9]]),\n",
       " array([[ 27,  33,  39],\n",
       "        [ 63,  78,  93],\n",
       "        [ 99, 123, 147]])]"
      ]
     },
     "execution_count": 136,
     "metadata": {},
     "output_type": "execute_result"
    }
   ],
   "source": [
    "np.vsplit(np.vstack((m1,m2,m3)),3)"
   ]
  },
  {
   "cell_type": "code",
   "execution_count": 141,
   "id": "5cbace02",
   "metadata": {},
   "outputs": [
    {
     "data": {
      "text/plain": [
       "array([[1.        , 1.73205081, 1.        ],\n",
       "       [1.73205081, 1.41421356, 1.73205081]])"
      ]
     },
     "execution_count": 141,
     "metadata": {},
     "output_type": "execute_result"
    }
   ],
   "source": [
    "np.sqrt(a1)"
   ]
  },
  {
   "cell_type": "code",
   "execution_count": 143,
   "id": "7060bd6b",
   "metadata": {},
   "outputs": [
    {
     "data": {
      "text/plain": [
       "array([[ 2.71828183, 20.08553692,  2.71828183],\n",
       "       [20.08553692,  7.3890561 , 20.08553692]])"
      ]
     },
     "execution_count": 143,
     "metadata": {},
     "output_type": "execute_result"
    }
   ],
   "source": [
    "np.exp(a1)"
   ]
  },
  {
   "cell_type": "code",
   "execution_count": 145,
   "id": "0faa09f1",
   "metadata": {},
   "outputs": [
    {
     "data": {
      "text/plain": [
       "array([[0.84147098, 0.14112001, 0.84147098],\n",
       "       [0.14112001, 0.90929743, 0.14112001]])"
      ]
     },
     "execution_count": 145,
     "metadata": {},
     "output_type": "execute_result"
    }
   ],
   "source": [
    "np.sin(a1)"
   ]
  },
  {
   "cell_type": "code",
   "execution_count": 147,
   "id": "98ea5398",
   "metadata": {},
   "outputs": [
    {
     "data": {
      "text/plain": [
       "array([[ 0.54030231, -0.9899925 ,  0.54030231],\n",
       "       [-0.9899925 , -0.41614684, -0.9899925 ]])"
      ]
     },
     "execution_count": 147,
     "metadata": {},
     "output_type": "execute_result"
    }
   ],
   "source": [
    "np.cos(a1)"
   ]
  },
  {
   "cell_type": "code",
   "execution_count": 148,
   "id": "e2bd4dd4",
   "metadata": {},
   "outputs": [
    {
     "data": {
      "text/plain": [
       "array([[0.        , 1.09861229, 0.        ],\n",
       "       [1.09861229, 0.69314718, 1.09861229]])"
      ]
     },
     "execution_count": 148,
     "metadata": {},
     "output_type": "execute_result"
    }
   ],
   "source": [
    "np.log(a1)"
   ]
  },
  {
   "cell_type": "code",
   "execution_count": 149,
   "id": "0fdf5ab9",
   "metadata": {},
   "outputs": [
    {
     "data": {
      "text/plain": [
       "13"
      ]
     },
     "execution_count": 149,
     "metadata": {},
     "output_type": "execute_result"
    }
   ],
   "source": [
    "np.sum(a1)"
   ]
  },
  {
   "cell_type": "code",
   "execution_count": 150,
   "id": "1fd5d684",
   "metadata": {},
   "outputs": [
    {
     "data": {
      "text/plain": [
       "0.8975274678557507"
      ]
     },
     "execution_count": 150,
     "metadata": {},
     "output_type": "execute_result"
    }
   ],
   "source": [
    "np.std(a1)"
   ]
  },
  {
   "cell_type": "code",
   "execution_count": 152,
   "id": "ab900486",
   "metadata": {},
   "outputs": [
    {
     "data": {
      "text/plain": [
       "array([0.57880463, 0.337889  , 0.642563  , 0.56072567, 0.94802255,\n",
       "       0.96136582, 0.09101514, 0.55959123, 0.69371337, 0.25318719,\n",
       "       0.83994379, 0.69003247, 0.47151446, 0.83233671, 0.46527108,\n",
       "       0.15985632, 0.73128692, 0.25476984, 0.83945487, 0.36836658])"
      ]
     },
     "execution_count": 152,
     "metadata": {},
     "output_type": "execute_result"
    }
   ],
   "source": [
    "np.random.random(20)"
   ]
  },
  {
   "cell_type": "code",
   "execution_count": 153,
   "id": "045a60a7",
   "metadata": {},
   "outputs": [
    {
     "data": {
      "text/plain": [
       "array([[0.33861494, 0.07162742, 0.78498307, 0.3954784 ],\n",
       "       [0.80199835, 0.00490153, 0.70002463, 0.47000721],\n",
       "       [0.60433886, 0.18932242, 0.66285734, 0.2305625 ]])"
      ]
     },
     "execution_count": 153,
     "metadata": {},
     "output_type": "execute_result"
    }
   ],
   "source": [
    "np.random.rand(3,4)"
   ]
  },
  {
   "cell_type": "code",
   "execution_count": 154,
   "id": "05cf372b",
   "metadata": {},
   "outputs": [
    {
     "data": {
      "text/plain": [
       "array([12,  1,  8,  6,  1, 18,  5,  3,  4,  8])"
      ]
     },
     "execution_count": 154,
     "metadata": {},
     "output_type": "execute_result"
    }
   ],
   "source": [
    "np.random.randint(0,20,10)"
   ]
  },
  {
   "cell_type": "code",
   "execution_count": 156,
   "id": "ece1a98f",
   "metadata": {},
   "outputs": [
    {
     "data": {
      "text/plain": [
       "array([3, 0, 6, 2, 7, 5, 1, 4])"
      ]
     },
     "execution_count": 156,
     "metadata": {},
     "output_type": "execute_result"
    }
   ],
   "source": [
    "np.random.permutation(np.arange(8))"
   ]
  },
  {
   "cell_type": "code",
   "execution_count": 157,
   "id": "0db672e7",
   "metadata": {},
   "outputs": [],
   "source": [
    "import pandas as pd"
   ]
  },
  {
   "cell_type": "code",
   "execution_count": 158,
   "id": "a15826c8",
   "metadata": {},
   "outputs": [
    {
     "data": {
      "text/plain": [
       "'1.24.3'"
      ]
     },
     "execution_count": 158,
     "metadata": {},
     "output_type": "execute_result"
    }
   ],
   "source": [
    "np.__version__"
   ]
  },
  {
   "cell_type": "code",
   "execution_count": 159,
   "id": "8ef02adb",
   "metadata": {},
   "outputs": [
    {
     "data": {
      "text/plain": [
       "'2.0.3'"
      ]
     },
     "execution_count": 159,
     "metadata": {},
     "output_type": "execute_result"
    }
   ],
   "source": [
    "pd.__version__"
   ]
  },
  {
   "cell_type": "code",
   "execution_count": 161,
   "id": "402e1071",
   "metadata": {},
   "outputs": [
    {
     "data": {
      "text/plain": [
       "[1, 2, 3, 4, 5]"
      ]
     },
     "execution_count": 161,
     "metadata": {},
     "output_type": "execute_result"
    }
   ],
   "source": [
    "a = [1,2,3,4,5]\n",
    "a"
   ]
  },
  {
   "cell_type": "code",
   "execution_count": 163,
   "id": "37aca1ec",
   "metadata": {},
   "outputs": [
    {
     "data": {
      "text/plain": [
       "0    1\n",
       "1    2\n",
       "2    3\n",
       "3    4\n",
       "4    5\n",
       "dtype: int64"
      ]
     },
     "execution_count": 163,
     "metadata": {},
     "output_type": "execute_result"
    }
   ],
   "source": [
    "pd.Series(a)"
   ]
  },
  {
   "cell_type": "code",
   "execution_count": 167,
   "id": "b3d18fb8",
   "metadata": {},
   "outputs": [],
   "source": [
    "a= pd.Series(a,index=['a','b','c','d','e'])"
   ]
  },
  {
   "cell_type": "code",
   "execution_count": 168,
   "id": "e1fb018a",
   "metadata": {},
   "outputs": [
    {
     "data": {
      "text/plain": [
       "1"
      ]
     },
     "execution_count": 168,
     "metadata": {},
     "output_type": "execute_result"
    }
   ],
   "source": [
    "a['a']"
   ]
  },
  {
   "cell_type": "code",
   "execution_count": 173,
   "id": "437321fb",
   "metadata": {},
   "outputs": [
    {
     "data": {
      "text/plain": [
       "AIML    35\n",
       "ML      50\n",
       "WS      55\n",
       "CS      80\n",
       "dtype: int64"
      ]
     },
     "execution_count": 173,
     "metadata": {},
     "output_type": "execute_result"
    }
   ],
   "source": [
    "dict = pd.Series({\"AIML\":35,\"ML\":50,\"WS\":55,\"CS\":80})\n",
    "dict"
   ]
  },
  {
   "cell_type": "code",
   "execution_count": 178,
   "id": "43159a06",
   "metadata": {},
   "outputs": [],
   "source": [
    "student = {\n",
    "    \"subjects\":[\"AIML\",\"CNN\",\"WS\",\"CS\"],\n",
    "    \"marks\":[89,90,78,90]\n",
    "}\n",
    "\n",
    "students  = pd.DataFrame(student)"
   ]
  },
  {
   "cell_type": "code",
   "execution_count": 181,
   "id": "42f7b92b",
   "metadata": {},
   "outputs": [
    {
     "data": {
      "text/plain": [
       "subjects    CS\n",
       "marks       90\n",
       "Name: 3, dtype: object"
      ]
     },
     "execution_count": 181,
     "metadata": {},
     "output_type": "execute_result"
    }
   ],
   "source": [
    "students.iloc[3]"
   ]
  },
  {
   "cell_type": "code",
   "execution_count": 184,
   "id": "80a5f502",
   "metadata": {},
   "outputs": [
    {
     "data": {
      "text/html": [
       "<div>\n",
       "<style scoped>\n",
       "    .dataframe tbody tr th:only-of-type {\n",
       "        vertical-align: middle;\n",
       "    }\n",
       "\n",
       "    .dataframe tbody tr th {\n",
       "        vertical-align: top;\n",
       "    }\n",
       "\n",
       "    .dataframe thead th {\n",
       "        text-align: right;\n",
       "    }\n",
       "</style>\n",
       "<table border=\"1\" class=\"dataframe\">\n",
       "  <thead>\n",
       "    <tr style=\"text-align: right;\">\n",
       "      <th></th>\n",
       "      <th>srNo</th>\n",
       "      <th>Student</th>\n",
       "      <th>BirthDate</th>\n",
       "      <th>Course</th>\n",
       "      <th>Percentage</th>\n",
       "    </tr>\n",
       "  </thead>\n",
       "  <tbody>\n",
       "    <tr>\n",
       "      <th>0</th>\n",
       "      <td>1</td>\n",
       "      <td>Bhavdip</td>\n",
       "      <td>23-10-2002</td>\n",
       "      <td>MScIT</td>\n",
       "      <td>64.0</td>\n",
       "    </tr>\n",
       "    <tr>\n",
       "      <th>1</th>\n",
       "      <td>2</td>\n",
       "      <td>Digvijay</td>\n",
       "      <td>15-11-2002</td>\n",
       "      <td>MScIT</td>\n",
       "      <td>81.0</td>\n",
       "    </tr>\n",
       "    <tr>\n",
       "      <th>2</th>\n",
       "      <td>3</td>\n",
       "      <td>Smit</td>\n",
       "      <td>11-15-2002</td>\n",
       "      <td>MScIT</td>\n",
       "      <td>86.0</td>\n",
       "    </tr>\n",
       "    <tr>\n",
       "      <th>3</th>\n",
       "      <td>4</td>\n",
       "      <td>Tejasv</td>\n",
       "      <td>10-06-2003</td>\n",
       "      <td>MScIT</td>\n",
       "      <td>85.0</td>\n",
       "    </tr>\n",
       "    <tr>\n",
       "      <th>4</th>\n",
       "      <td>5</td>\n",
       "      <td>Uzzma</td>\n",
       "      <td>16-04-1997</td>\n",
       "      <td>MScIT</td>\n",
       "      <td>88.0</td>\n",
       "    </tr>\n",
       "    <tr>\n",
       "      <th>5</th>\n",
       "      <td>6</td>\n",
       "      <td>abcd</td>\n",
       "      <td>NaN</td>\n",
       "      <td>MScIT</td>\n",
       "      <td>NaN</td>\n",
       "    </tr>\n",
       "  </tbody>\n",
       "</table>\n",
       "</div>"
      ],
      "text/plain": [
       "   srNo   Student   BirthDate Course  Percentage\n",
       "0     1   Bhavdip  23-10-2002  MScIT        64.0\n",
       "1     2  Digvijay  15-11-2002  MScIT        81.0\n",
       "2     3      Smit  11-15-2002  MScIT        86.0\n",
       "3     4    Tejasv  10-06-2003  MScIT        85.0\n",
       "4     5     Uzzma  16-04-1997  MScIT        88.0\n",
       "5     6      abcd         NaN  MScIT         NaN"
      ]
     },
     "execution_count": 184,
     "metadata": {},
     "output_type": "execute_result"
    }
   ],
   "source": [
    "students  = pd.read_csv('students.csv')\n",
    "students"
   ]
  },
  {
   "cell_type": "code",
   "execution_count": 187,
   "id": "90189c39",
   "metadata": {},
   "outputs": [],
   "source": [
    "students['ws'] = [90,89,90,89,78,90]"
   ]
  },
  {
   "cell_type": "code",
   "execution_count": 199,
   "id": "55713918",
   "metadata": {},
   "outputs": [],
   "source": [
    "students['cs']= [80,78,90,90,88,99]\n",
    "students['ai'] = [90,89,78,89,89,90]"
   ]
  },
  {
   "cell_type": "code",
   "execution_count": 201,
   "id": "21dbcb37",
   "metadata": {},
   "outputs": [
    {
     "data": {
      "text/html": [
       "<div>\n",
       "<style scoped>\n",
       "    .dataframe tbody tr th:only-of-type {\n",
       "        vertical-align: middle;\n",
       "    }\n",
       "\n",
       "    .dataframe tbody tr th {\n",
       "        vertical-align: top;\n",
       "    }\n",
       "\n",
       "    .dataframe thead th {\n",
       "        text-align: right;\n",
       "    }\n",
       "</style>\n",
       "<table border=\"1\" class=\"dataframe\">\n",
       "  <thead>\n",
       "    <tr style=\"text-align: right;\">\n",
       "      <th></th>\n",
       "      <th>srNo</th>\n",
       "      <th>Student</th>\n",
       "      <th>BirthDate</th>\n",
       "      <th>Course</th>\n",
       "      <th>total</th>\n",
       "      <th>ws</th>\n",
       "      <th>cs</th>\n",
       "      <th>ai</th>\n",
       "    </tr>\n",
       "  </thead>\n",
       "  <tbody>\n",
       "    <tr>\n",
       "      <th>0</th>\n",
       "      <td>1</td>\n",
       "      <td>Bhavdip</td>\n",
       "      <td>23-10-2002</td>\n",
       "      <td>MScIT</td>\n",
       "      <td>90</td>\n",
       "      <td>90</td>\n",
       "      <td>80</td>\n",
       "      <td>90</td>\n",
       "    </tr>\n",
       "    <tr>\n",
       "      <th>1</th>\n",
       "      <td>2</td>\n",
       "      <td>Digvijay</td>\n",
       "      <td>15-11-2002</td>\n",
       "      <td>MScIT</td>\n",
       "      <td>89</td>\n",
       "      <td>89</td>\n",
       "      <td>78</td>\n",
       "      <td>89</td>\n",
       "    </tr>\n",
       "    <tr>\n",
       "      <th>2</th>\n",
       "      <td>3</td>\n",
       "      <td>Smit</td>\n",
       "      <td>11-15-2002</td>\n",
       "      <td>MScIT</td>\n",
       "      <td>90</td>\n",
       "      <td>90</td>\n",
       "      <td>90</td>\n",
       "      <td>78</td>\n",
       "    </tr>\n",
       "    <tr>\n",
       "      <th>3</th>\n",
       "      <td>4</td>\n",
       "      <td>Tejasv</td>\n",
       "      <td>10-06-2003</td>\n",
       "      <td>MScIT</td>\n",
       "      <td>89</td>\n",
       "      <td>89</td>\n",
       "      <td>90</td>\n",
       "      <td>89</td>\n",
       "    </tr>\n",
       "    <tr>\n",
       "      <th>4</th>\n",
       "      <td>5</td>\n",
       "      <td>Uzzma</td>\n",
       "      <td>16-04-1997</td>\n",
       "      <td>MScIT</td>\n",
       "      <td>78</td>\n",
       "      <td>78</td>\n",
       "      <td>88</td>\n",
       "      <td>89</td>\n",
       "    </tr>\n",
       "    <tr>\n",
       "      <th>5</th>\n",
       "      <td>6</td>\n",
       "      <td>abcd</td>\n",
       "      <td>NaN</td>\n",
       "      <td>MScIT</td>\n",
       "      <td>90</td>\n",
       "      <td>90</td>\n",
       "      <td>99</td>\n",
       "      <td>90</td>\n",
       "    </tr>\n",
       "  </tbody>\n",
       "</table>\n",
       "</div>"
      ],
      "text/plain": [
       "   srNo   Student   BirthDate Course  total  ws  cs  ai\n",
       "0     1   Bhavdip  23-10-2002  MScIT     90  90  80  90\n",
       "1     2  Digvijay  15-11-2002  MScIT     89  89  78  89\n",
       "2     3      Smit  11-15-2002  MScIT     90  90  90  78\n",
       "3     4    Tejasv  10-06-2003  MScIT     89  89  90  89\n",
       "4     5     Uzzma  16-04-1997  MScIT     78  78  88  89\n",
       "5     6      abcd         NaN  MScIT     90  90  99  90"
      ]
     },
     "execution_count": 201,
     "metadata": {},
     "output_type": "execute_result"
    }
   ],
   "source": [
    "students.drop(columns=['Percentage'])"
   ]
  },
  {
   "cell_type": "code",
   "execution_count": 203,
   "id": "711d4378",
   "metadata": {},
   "outputs": [],
   "source": [
    "students.to_csv('students.csv',index=False)"
   ]
  },
  {
   "cell_type": "code",
   "execution_count": 205,
   "id": "cb62e692",
   "metadata": {},
   "outputs": [
    {
     "data": {
      "text/html": [
       "<div>\n",
       "<style scoped>\n",
       "    .dataframe tbody tr th:only-of-type {\n",
       "        vertical-align: middle;\n",
       "    }\n",
       "\n",
       "    .dataframe tbody tr th {\n",
       "        vertical-align: top;\n",
       "    }\n",
       "\n",
       "    .dataframe thead th {\n",
       "        text-align: right;\n",
       "    }\n",
       "</style>\n",
       "<table border=\"1\" class=\"dataframe\">\n",
       "  <thead>\n",
       "    <tr style=\"text-align: right;\">\n",
       "      <th></th>\n",
       "      <th>srNo</th>\n",
       "      <th>Student</th>\n",
       "      <th>BirthDate</th>\n",
       "      <th>Course</th>\n",
       "      <th>Percentage</th>\n",
       "      <th>total</th>\n",
       "      <th>ws</th>\n",
       "      <th>cs</th>\n",
       "      <th>ai</th>\n",
       "    </tr>\n",
       "  </thead>\n",
       "  <tbody>\n",
       "    <tr>\n",
       "      <th>0</th>\n",
       "      <td>1</td>\n",
       "      <td>Bhavdip</td>\n",
       "      <td>23-10-2002</td>\n",
       "      <td>MScIT</td>\n",
       "      <td>64.0</td>\n",
       "      <td>90</td>\n",
       "      <td>90</td>\n",
       "      <td>80</td>\n",
       "      <td>90</td>\n",
       "    </tr>\n",
       "    <tr>\n",
       "      <th>1</th>\n",
       "      <td>2</td>\n",
       "      <td>Digvijay</td>\n",
       "      <td>15-11-2002</td>\n",
       "      <td>MScIT</td>\n",
       "      <td>81.0</td>\n",
       "      <td>89</td>\n",
       "      <td>89</td>\n",
       "      <td>78</td>\n",
       "      <td>89</td>\n",
       "    </tr>\n",
       "    <tr>\n",
       "      <th>2</th>\n",
       "      <td>3</td>\n",
       "      <td>Smit</td>\n",
       "      <td>11-15-2002</td>\n",
       "      <td>MScIT</td>\n",
       "      <td>86.0</td>\n",
       "      <td>90</td>\n",
       "      <td>90</td>\n",
       "      <td>90</td>\n",
       "      <td>78</td>\n",
       "    </tr>\n",
       "    <tr>\n",
       "      <th>3</th>\n",
       "      <td>4</td>\n",
       "      <td>Tejasv</td>\n",
       "      <td>10-06-2003</td>\n",
       "      <td>MScIT</td>\n",
       "      <td>85.0</td>\n",
       "      <td>89</td>\n",
       "      <td>89</td>\n",
       "      <td>90</td>\n",
       "      <td>89</td>\n",
       "    </tr>\n",
       "    <tr>\n",
       "      <th>4</th>\n",
       "      <td>5</td>\n",
       "      <td>Uzzma</td>\n",
       "      <td>16-04-1997</td>\n",
       "      <td>MScIT</td>\n",
       "      <td>88.0</td>\n",
       "      <td>78</td>\n",
       "      <td>78</td>\n",
       "      <td>88</td>\n",
       "      <td>89</td>\n",
       "    </tr>\n",
       "    <tr>\n",
       "      <th>5</th>\n",
       "      <td>6</td>\n",
       "      <td>abcd</td>\n",
       "      <td>NaN</td>\n",
       "      <td>MScIT</td>\n",
       "      <td>NaN</td>\n",
       "      <td>90</td>\n",
       "      <td>90</td>\n",
       "      <td>99</td>\n",
       "      <td>90</td>\n",
       "    </tr>\n",
       "  </tbody>\n",
       "</table>\n",
       "</div>"
      ],
      "text/plain": [
       "   srNo   Student   BirthDate Course  Percentage  total  ws  cs  ai\n",
       "0     1   Bhavdip  23-10-2002  MScIT        64.0     90  90  80  90\n",
       "1     2  Digvijay  15-11-2002  MScIT        81.0     89  89  78  89\n",
       "2     3      Smit  11-15-2002  MScIT        86.0     90  90  90  78\n",
       "3     4    Tejasv  10-06-2003  MScIT        85.0     89  89  90  89\n",
       "4     5     Uzzma  16-04-1997  MScIT        88.0     78  78  88  89\n",
       "5     6      abcd         NaN  MScIT         NaN     90  90  99  90"
      ]
     },
     "execution_count": 205,
     "metadata": {},
     "output_type": "execute_result"
    }
   ],
   "source": [
    "students = pd.read_csv('students.csv')\n",
    "students"
   ]
  },
  {
   "cell_type": "code",
   "execution_count": 207,
   "id": "b7b8364b",
   "metadata": {},
   "outputs": [
    {
     "name": "stdout",
     "output_type": "stream",
     "text": [
      "<class 'pandas.core.frame.DataFrame'>\n",
      "RangeIndex: 6 entries, 0 to 5\n",
      "Data columns (total 9 columns):\n",
      " #   Column      Non-Null Count  Dtype  \n",
      "---  ------      --------------  -----  \n",
      " 0   srNo        6 non-null      int64  \n",
      " 1   Student     6 non-null      object \n",
      " 2   BirthDate   5 non-null      object \n",
      " 3   Course      6 non-null      object \n",
      " 4   Percentage  5 non-null      float64\n",
      " 5   total       6 non-null      int64  \n",
      " 6   ws          6 non-null      int64  \n",
      " 7   cs          6 non-null      int64  \n",
      " 8   ai          6 non-null      int64  \n",
      "dtypes: float64(1), int64(5), object(3)\n",
      "memory usage: 564.0+ bytes\n"
     ]
    }
   ],
   "source": [
    "students.info()"
   ]
  },
  {
   "cell_type": "code",
   "execution_count": 233,
   "id": "331a8d7b",
   "metadata": {},
   "outputs": [
    {
     "data": {
      "text/html": [
       "<div>\n",
       "<style scoped>\n",
       "    .dataframe tbody tr th:only-of-type {\n",
       "        vertical-align: middle;\n",
       "    }\n",
       "\n",
       "    .dataframe tbody tr th {\n",
       "        vertical-align: top;\n",
       "    }\n",
       "\n",
       "    .dataframe thead th {\n",
       "        text-align: right;\n",
       "    }\n",
       "</style>\n",
       "<table border=\"1\" class=\"dataframe\">\n",
       "  <thead>\n",
       "    <tr style=\"text-align: right;\">\n",
       "      <th></th>\n",
       "      <th>srNo</th>\n",
       "      <th>Percentage</th>\n",
       "      <th>total</th>\n",
       "      <th>ws</th>\n",
       "      <th>cs</th>\n",
       "      <th>ai</th>\n",
       "    </tr>\n",
       "  </thead>\n",
       "  <tbody>\n",
       "    <tr>\n",
       "      <th>count</th>\n",
       "      <td>6.000000</td>\n",
       "      <td>5.000000</td>\n",
       "      <td>6.000000</td>\n",
       "      <td>6.000000</td>\n",
       "      <td>6.000000</td>\n",
       "      <td>6.000000</td>\n",
       "    </tr>\n",
       "    <tr>\n",
       "      <th>mean</th>\n",
       "      <td>3.500000</td>\n",
       "      <td>80.800000</td>\n",
       "      <td>87.666667</td>\n",
       "      <td>87.666667</td>\n",
       "      <td>87.500000</td>\n",
       "      <td>87.500000</td>\n",
       "    </tr>\n",
       "    <tr>\n",
       "      <th>std</th>\n",
       "      <td>1.870829</td>\n",
       "      <td>9.731393</td>\n",
       "      <td>4.760952</td>\n",
       "      <td>4.760952</td>\n",
       "      <td>7.635444</td>\n",
       "      <td>4.679744</td>\n",
       "    </tr>\n",
       "    <tr>\n",
       "      <th>min</th>\n",
       "      <td>1.000000</td>\n",
       "      <td>64.000000</td>\n",
       "      <td>78.000000</td>\n",
       "      <td>78.000000</td>\n",
       "      <td>78.000000</td>\n",
       "      <td>78.000000</td>\n",
       "    </tr>\n",
       "    <tr>\n",
       "      <th>25%</th>\n",
       "      <td>2.250000</td>\n",
       "      <td>81.000000</td>\n",
       "      <td>89.000000</td>\n",
       "      <td>89.000000</td>\n",
       "      <td>82.000000</td>\n",
       "      <td>89.000000</td>\n",
       "    </tr>\n",
       "    <tr>\n",
       "      <th>50%</th>\n",
       "      <td>3.500000</td>\n",
       "      <td>85.000000</td>\n",
       "      <td>89.500000</td>\n",
       "      <td>89.500000</td>\n",
       "      <td>89.000000</td>\n",
       "      <td>89.000000</td>\n",
       "    </tr>\n",
       "    <tr>\n",
       "      <th>75%</th>\n",
       "      <td>4.750000</td>\n",
       "      <td>86.000000</td>\n",
       "      <td>90.000000</td>\n",
       "      <td>90.000000</td>\n",
       "      <td>90.000000</td>\n",
       "      <td>89.750000</td>\n",
       "    </tr>\n",
       "    <tr>\n",
       "      <th>max</th>\n",
       "      <td>6.000000</td>\n",
       "      <td>88.000000</td>\n",
       "      <td>90.000000</td>\n",
       "      <td>90.000000</td>\n",
       "      <td>99.000000</td>\n",
       "      <td>90.000000</td>\n",
       "    </tr>\n",
       "  </tbody>\n",
       "</table>\n",
       "</div>"
      ],
      "text/plain": [
       "           srNo  Percentage      total         ws         cs         ai\n",
       "count  6.000000    5.000000   6.000000   6.000000   6.000000   6.000000\n",
       "mean   3.500000   80.800000  87.666667  87.666667  87.500000  87.500000\n",
       "std    1.870829    9.731393   4.760952   4.760952   7.635444   4.679744\n",
       "min    1.000000   64.000000  78.000000  78.000000  78.000000  78.000000\n",
       "25%    2.250000   81.000000  89.000000  89.000000  82.000000  89.000000\n",
       "50%    3.500000   85.000000  89.500000  89.500000  89.000000  89.000000\n",
       "75%    4.750000   86.000000  90.000000  90.000000  90.000000  89.750000\n",
       "max    6.000000   88.000000  90.000000  90.000000  99.000000  90.000000"
      ]
     },
     "execution_count": 233,
     "metadata": {},
     "output_type": "execute_result"
    }
   ],
   "source": [
    "students.describe()"
   ]
  },
  {
   "cell_type": "code",
   "execution_count": 228,
   "id": "cef344a8",
   "metadata": {
    "collapsed": true
   },
   "outputs": [],
   "source": [
    "obj = students.groupby('Student')\n"
   ]
  },
  {
   "cell_type": "code",
   "execution_count": 231,
   "id": "018e53c2",
   "metadata": {},
   "outputs": [
    {
     "data": {
      "text/html": [
       "<div>\n",
       "<style scoped>\n",
       "    .dataframe tbody tr th:only-of-type {\n",
       "        vertical-align: middle;\n",
       "    }\n",
       "\n",
       "    .dataframe tbody tr th {\n",
       "        vertical-align: top;\n",
       "    }\n",
       "\n",
       "    .dataframe thead th {\n",
       "        text-align: right;\n",
       "    }\n",
       "</style>\n",
       "<table border=\"1\" class=\"dataframe\">\n",
       "  <thead>\n",
       "    <tr style=\"text-align: right;\">\n",
       "      <th></th>\n",
       "      <th>srNo</th>\n",
       "      <th>BirthDate</th>\n",
       "      <th>Course</th>\n",
       "      <th>Percentage</th>\n",
       "      <th>total</th>\n",
       "      <th>ws</th>\n",
       "      <th>cs</th>\n",
       "      <th>ai</th>\n",
       "    </tr>\n",
       "    <tr>\n",
       "      <th>Student</th>\n",
       "      <th></th>\n",
       "      <th></th>\n",
       "      <th></th>\n",
       "      <th></th>\n",
       "      <th></th>\n",
       "      <th></th>\n",
       "      <th></th>\n",
       "      <th></th>\n",
       "    </tr>\n",
       "  </thead>\n",
       "  <tbody>\n",
       "    <tr>\n",
       "      <th>Bhavdip</th>\n",
       "      <td>1</td>\n",
       "      <td>1</td>\n",
       "      <td>1</td>\n",
       "      <td>1</td>\n",
       "      <td>1</td>\n",
       "      <td>1</td>\n",
       "      <td>1</td>\n",
       "      <td>1</td>\n",
       "    </tr>\n",
       "    <tr>\n",
       "      <th>Digvijay</th>\n",
       "      <td>1</td>\n",
       "      <td>1</td>\n",
       "      <td>1</td>\n",
       "      <td>1</td>\n",
       "      <td>1</td>\n",
       "      <td>1</td>\n",
       "      <td>1</td>\n",
       "      <td>1</td>\n",
       "    </tr>\n",
       "    <tr>\n",
       "      <th>Smit</th>\n",
       "      <td>1</td>\n",
       "      <td>1</td>\n",
       "      <td>1</td>\n",
       "      <td>1</td>\n",
       "      <td>1</td>\n",
       "      <td>1</td>\n",
       "      <td>1</td>\n",
       "      <td>1</td>\n",
       "    </tr>\n",
       "    <tr>\n",
       "      <th>Tejasv</th>\n",
       "      <td>1</td>\n",
       "      <td>1</td>\n",
       "      <td>1</td>\n",
       "      <td>1</td>\n",
       "      <td>1</td>\n",
       "      <td>1</td>\n",
       "      <td>1</td>\n",
       "      <td>1</td>\n",
       "    </tr>\n",
       "    <tr>\n",
       "      <th>Uzzma</th>\n",
       "      <td>1</td>\n",
       "      <td>1</td>\n",
       "      <td>1</td>\n",
       "      <td>1</td>\n",
       "      <td>1</td>\n",
       "      <td>1</td>\n",
       "      <td>1</td>\n",
       "      <td>1</td>\n",
       "    </tr>\n",
       "    <tr>\n",
       "      <th>abcd</th>\n",
       "      <td>1</td>\n",
       "      <td>0</td>\n",
       "      <td>1</td>\n",
       "      <td>0</td>\n",
       "      <td>1</td>\n",
       "      <td>1</td>\n",
       "      <td>1</td>\n",
       "      <td>1</td>\n",
       "    </tr>\n",
       "  </tbody>\n",
       "</table>\n",
       "</div>"
      ],
      "text/plain": [
       "          srNo  BirthDate  Course  Percentage  total  ws  cs  ai\n",
       "Student                                                         \n",
       "Bhavdip      1          1       1           1      1   1   1   1\n",
       "Digvijay     1          1       1           1      1   1   1   1\n",
       "Smit         1          1       1           1      1   1   1   1\n",
       "Tejasv       1          1       1           1      1   1   1   1\n",
       "Uzzma        1          1       1           1      1   1   1   1\n",
       "abcd         1          0       1           0      1   1   1   1"
      ]
     },
     "execution_count": 231,
     "metadata": {},
     "output_type": "execute_result"
    }
   ],
   "source": [
    "obj.count()"
   ]
  },
  {
   "cell_type": "code",
   "execution_count": 261,
   "id": "54d900d4",
   "metadata": {},
   "outputs": [
    {
     "data": {
      "text/html": [
       "<div>\n",
       "<style scoped>\n",
       "    .dataframe tbody tr th:only-of-type {\n",
       "        vertical-align: middle;\n",
       "    }\n",
       "\n",
       "    .dataframe tbody tr th {\n",
       "        vertical-align: top;\n",
       "    }\n",
       "\n",
       "    .dataframe thead th {\n",
       "        text-align: right;\n",
       "    }\n",
       "</style>\n",
       "<table border=\"1\" class=\"dataframe\">\n",
       "  <thead>\n",
       "    <tr style=\"text-align: right;\">\n",
       "      <th></th>\n",
       "      <th>srNo</th>\n",
       "      <th>Student</th>\n",
       "      <th>BirthDate</th>\n",
       "      <th>Course</th>\n",
       "      <th>ws</th>\n",
       "      <th>cs</th>\n",
       "      <th>ai</th>\n",
       "    </tr>\n",
       "  </thead>\n",
       "  <tbody>\n",
       "    <tr>\n",
       "      <th>0</th>\n",
       "      <td>1</td>\n",
       "      <td>Bhavdip</td>\n",
       "      <td>23-10-2002</td>\n",
       "      <td>Mscit</td>\n",
       "      <td>90</td>\n",
       "      <td>80</td>\n",
       "      <td>90</td>\n",
       "    </tr>\n",
       "    <tr>\n",
       "      <th>1</th>\n",
       "      <td>2</td>\n",
       "      <td>Digvijay</td>\n",
       "      <td>15-11-2002</td>\n",
       "      <td>Mscit</td>\n",
       "      <td>89</td>\n",
       "      <td>78</td>\n",
       "      <td>89</td>\n",
       "    </tr>\n",
       "    <tr>\n",
       "      <th>2</th>\n",
       "      <td>3</td>\n",
       "      <td>Smit</td>\n",
       "      <td>11-15-2002</td>\n",
       "      <td>Mscit</td>\n",
       "      <td>90</td>\n",
       "      <td>90</td>\n",
       "      <td>78</td>\n",
       "    </tr>\n",
       "    <tr>\n",
       "      <th>3</th>\n",
       "      <td>4</td>\n",
       "      <td>Tejasv</td>\n",
       "      <td>10-06-2003</td>\n",
       "      <td>Mscit</td>\n",
       "      <td>89</td>\n",
       "      <td>90</td>\n",
       "      <td>89</td>\n",
       "    </tr>\n",
       "    <tr>\n",
       "      <th>4</th>\n",
       "      <td>5</td>\n",
       "      <td>Uzzma</td>\n",
       "      <td>16-04-1997</td>\n",
       "      <td>Mscit</td>\n",
       "      <td>78</td>\n",
       "      <td>88</td>\n",
       "      <td>89</td>\n",
       "    </tr>\n",
       "    <tr>\n",
       "      <th>5</th>\n",
       "      <td>6</td>\n",
       "      <td>abcd</td>\n",
       "      <td>NaN</td>\n",
       "      <td>Mscit</td>\n",
       "      <td>90</td>\n",
       "      <td>99</td>\n",
       "      <td>90</td>\n",
       "    </tr>\n",
       "  </tbody>\n",
       "</table>\n",
       "</div>"
      ],
      "text/plain": [
       "   srNo   Student   BirthDate Course  ws  cs  ai\n",
       "0     1   Bhavdip  23-10-2002  Mscit  90  80  90\n",
       "1     2  Digvijay  15-11-2002  Mscit  89  78  89\n",
       "2     3      Smit  11-15-2002  Mscit  90  90  78\n",
       "3     4    Tejasv  10-06-2003  Mscit  89  90  89\n",
       "4     5     Uzzma  16-04-1997  Mscit  78  88  89\n",
       "5     6      abcd         NaN  Mscit  90  99  90"
      ]
     },
     "execution_count": 261,
     "metadata": {},
     "output_type": "execute_result"
    }
   ],
   "source": [
    "students = students.drop(columns=['total'])\n",
    "students.to_csv('students.csv',index=False)\n",
    "students"
   ]
  },
  {
   "cell_type": "code",
   "execution_count": 262,
   "id": "8cb04295",
   "metadata": {},
   "outputs": [
    {
     "data": {
      "text/html": [
       "<div>\n",
       "<style scoped>\n",
       "    .dataframe tbody tr th:only-of-type {\n",
       "        vertical-align: middle;\n",
       "    }\n",
       "\n",
       "    .dataframe tbody tr th {\n",
       "        vertical-align: top;\n",
       "    }\n",
       "\n",
       "    .dataframe thead th {\n",
       "        text-align: right;\n",
       "    }\n",
       "</style>\n",
       "<table border=\"1\" class=\"dataframe\">\n",
       "  <thead>\n",
       "    <tr style=\"text-align: right;\">\n",
       "      <th></th>\n",
       "      <th>srNo</th>\n",
       "      <th>Student</th>\n",
       "      <th>BirthDate</th>\n",
       "      <th>Course</th>\n",
       "      <th>ws</th>\n",
       "      <th>cs</th>\n",
       "      <th>ai</th>\n",
       "    </tr>\n",
       "  </thead>\n",
       "  <tbody>\n",
       "    <tr>\n",
       "      <th>0</th>\n",
       "      <td>1</td>\n",
       "      <td>Bhavdip</td>\n",
       "      <td>23-10-2002</td>\n",
       "      <td>Mscit</td>\n",
       "      <td>90</td>\n",
       "      <td>80</td>\n",
       "      <td>90</td>\n",
       "    </tr>\n",
       "    <tr>\n",
       "      <th>1</th>\n",
       "      <td>2</td>\n",
       "      <td>Digvijay</td>\n",
       "      <td>15-11-2002</td>\n",
       "      <td>Mscit</td>\n",
       "      <td>89</td>\n",
       "      <td>78</td>\n",
       "      <td>89</td>\n",
       "    </tr>\n",
       "    <tr>\n",
       "      <th>2</th>\n",
       "      <td>3</td>\n",
       "      <td>Smit</td>\n",
       "      <td>11-15-2002</td>\n",
       "      <td>Mscit</td>\n",
       "      <td>90</td>\n",
       "      <td>90</td>\n",
       "      <td>78</td>\n",
       "    </tr>\n",
       "    <tr>\n",
       "      <th>3</th>\n",
       "      <td>4</td>\n",
       "      <td>Tejasv</td>\n",
       "      <td>10-06-2003</td>\n",
       "      <td>Mscit</td>\n",
       "      <td>89</td>\n",
       "      <td>90</td>\n",
       "      <td>89</td>\n",
       "    </tr>\n",
       "    <tr>\n",
       "      <th>4</th>\n",
       "      <td>5</td>\n",
       "      <td>Uzzma</td>\n",
       "      <td>16-04-1997</td>\n",
       "      <td>Mscit</td>\n",
       "      <td>78</td>\n",
       "      <td>88</td>\n",
       "      <td>89</td>\n",
       "    </tr>\n",
       "    <tr>\n",
       "      <th>5</th>\n",
       "      <td>6</td>\n",
       "      <td>abcd</td>\n",
       "      <td>NaN</td>\n",
       "      <td>Mscit</td>\n",
       "      <td>90</td>\n",
       "      <td>99</td>\n",
       "      <td>90</td>\n",
       "    </tr>\n",
       "  </tbody>\n",
       "</table>\n",
       "</div>"
      ],
      "text/plain": [
       "   srNo   Student   BirthDate Course  ws  cs  ai\n",
       "0     1   Bhavdip  23-10-2002  Mscit  90  80  90\n",
       "1     2  Digvijay  15-11-2002  Mscit  89  78  89\n",
       "2     3      Smit  11-15-2002  Mscit  90  90  78\n",
       "3     4    Tejasv  10-06-2003  Mscit  89  90  89\n",
       "4     5     Uzzma  16-04-1997  Mscit  78  88  89\n",
       "5     6      abcd         NaN  Mscit  90  99  90"
      ]
     },
     "execution_count": 262,
     "metadata": {},
     "output_type": "execute_result"
    }
   ],
   "source": [
    "students = pd.read_csv('students.csv')\n",
    "students"
   ]
  },
  {
   "cell_type": "code",
   "execution_count": 263,
   "id": "39b98e39",
   "metadata": {},
   "outputs": [
    {
     "data": {
      "text/html": [
       "<div>\n",
       "<style scoped>\n",
       "    .dataframe tbody tr th:only-of-type {\n",
       "        vertical-align: middle;\n",
       "    }\n",
       "\n",
       "    .dataframe tbody tr th {\n",
       "        vertical-align: top;\n",
       "    }\n",
       "\n",
       "    .dataframe thead th {\n",
       "        text-align: right;\n",
       "    }\n",
       "</style>\n",
       "<table border=\"1\" class=\"dataframe\">\n",
       "  <thead>\n",
       "    <tr style=\"text-align: right;\">\n",
       "      <th></th>\n",
       "      <th>srNo</th>\n",
       "      <th>Student</th>\n",
       "      <th>BirthDate</th>\n",
       "      <th>Course</th>\n",
       "      <th>ws</th>\n",
       "      <th>cs</th>\n",
       "      <th>ai</th>\n",
       "      <th>total</th>\n",
       "    </tr>\n",
       "  </thead>\n",
       "  <tbody>\n",
       "    <tr>\n",
       "      <th>0</th>\n",
       "      <td>1</td>\n",
       "      <td>Bhavdip</td>\n",
       "      <td>23-10-2002</td>\n",
       "      <td>Mscit</td>\n",
       "      <td>90</td>\n",
       "      <td>80</td>\n",
       "      <td>90</td>\n",
       "      <td>260</td>\n",
       "    </tr>\n",
       "    <tr>\n",
       "      <th>1</th>\n",
       "      <td>2</td>\n",
       "      <td>Digvijay</td>\n",
       "      <td>15-11-2002</td>\n",
       "      <td>Mscit</td>\n",
       "      <td>89</td>\n",
       "      <td>78</td>\n",
       "      <td>89</td>\n",
       "      <td>256</td>\n",
       "    </tr>\n",
       "    <tr>\n",
       "      <th>2</th>\n",
       "      <td>3</td>\n",
       "      <td>Smit</td>\n",
       "      <td>11-15-2002</td>\n",
       "      <td>Mscit</td>\n",
       "      <td>90</td>\n",
       "      <td>90</td>\n",
       "      <td>78</td>\n",
       "      <td>258</td>\n",
       "    </tr>\n",
       "    <tr>\n",
       "      <th>3</th>\n",
       "      <td>4</td>\n",
       "      <td>Tejasv</td>\n",
       "      <td>10-06-2003</td>\n",
       "      <td>Mscit</td>\n",
       "      <td>89</td>\n",
       "      <td>90</td>\n",
       "      <td>89</td>\n",
       "      <td>268</td>\n",
       "    </tr>\n",
       "    <tr>\n",
       "      <th>4</th>\n",
       "      <td>5</td>\n",
       "      <td>Uzzma</td>\n",
       "      <td>16-04-1997</td>\n",
       "      <td>Mscit</td>\n",
       "      <td>78</td>\n",
       "      <td>88</td>\n",
       "      <td>89</td>\n",
       "      <td>255</td>\n",
       "    </tr>\n",
       "    <tr>\n",
       "      <th>5</th>\n",
       "      <td>6</td>\n",
       "      <td>abcd</td>\n",
       "      <td>NaN</td>\n",
       "      <td>Mscit</td>\n",
       "      <td>90</td>\n",
       "      <td>99</td>\n",
       "      <td>90</td>\n",
       "      <td>279</td>\n",
       "    </tr>\n",
       "  </tbody>\n",
       "</table>\n",
       "</div>"
      ],
      "text/plain": [
       "   srNo   Student   BirthDate Course  ws  cs  ai  total\n",
       "0     1   Bhavdip  23-10-2002  Mscit  90  80  90    260\n",
       "1     2  Digvijay  15-11-2002  Mscit  89  78  89    256\n",
       "2     3      Smit  11-15-2002  Mscit  90  90  78    258\n",
       "3     4    Tejasv  10-06-2003  Mscit  89  90  89    268\n",
       "4     5     Uzzma  16-04-1997  Mscit  78  88  89    255\n",
       "5     6      abcd         NaN  Mscit  90  99  90    279"
      ]
     },
     "execution_count": 263,
     "metadata": {},
     "output_type": "execute_result"
    }
   ],
   "source": [
    "students['total'] = students['ws'] + students['cs'] + students['ai']\n",
    "students"
   ]
  },
  {
   "cell_type": "code",
   "execution_count": 267,
   "id": "0a73de05",
   "metadata": {},
   "outputs": [
    {
     "data": {
      "text/html": [
       "<div>\n",
       "<style scoped>\n",
       "    .dataframe tbody tr th:only-of-type {\n",
       "        vertical-align: middle;\n",
       "    }\n",
       "\n",
       "    .dataframe tbody tr th {\n",
       "        vertical-align: top;\n",
       "    }\n",
       "\n",
       "    .dataframe thead th {\n",
       "        text-align: right;\n",
       "    }\n",
       "</style>\n",
       "<table border=\"1\" class=\"dataframe\">\n",
       "  <thead>\n",
       "    <tr style=\"text-align: right;\">\n",
       "      <th></th>\n",
       "      <th>srNo</th>\n",
       "      <th>Student</th>\n",
       "      <th>BirthDate</th>\n",
       "      <th>Course</th>\n",
       "      <th>ws</th>\n",
       "      <th>cs</th>\n",
       "      <th>ai</th>\n",
       "      <th>total</th>\n",
       "      <th>percentage</th>\n",
       "    </tr>\n",
       "  </thead>\n",
       "  <tbody>\n",
       "    <tr>\n",
       "      <th>0</th>\n",
       "      <td>1</td>\n",
       "      <td>Bhavdip</td>\n",
       "      <td>23-10-2002</td>\n",
       "      <td>Mscit</td>\n",
       "      <td>90</td>\n",
       "      <td>80</td>\n",
       "      <td>90</td>\n",
       "      <td>260</td>\n",
       "      <td>87.0</td>\n",
       "    </tr>\n",
       "    <tr>\n",
       "      <th>1</th>\n",
       "      <td>2</td>\n",
       "      <td>Digvijay</td>\n",
       "      <td>15-11-2002</td>\n",
       "      <td>Mscit</td>\n",
       "      <td>89</td>\n",
       "      <td>78</td>\n",
       "      <td>89</td>\n",
       "      <td>256</td>\n",
       "      <td>85.0</td>\n",
       "    </tr>\n",
       "    <tr>\n",
       "      <th>2</th>\n",
       "      <td>3</td>\n",
       "      <td>Smit</td>\n",
       "      <td>11-15-2002</td>\n",
       "      <td>Mscit</td>\n",
       "      <td>90</td>\n",
       "      <td>90</td>\n",
       "      <td>78</td>\n",
       "      <td>258</td>\n",
       "      <td>86.0</td>\n",
       "    </tr>\n",
       "    <tr>\n",
       "      <th>3</th>\n",
       "      <td>4</td>\n",
       "      <td>Tejasv</td>\n",
       "      <td>10-06-2003</td>\n",
       "      <td>Mscit</td>\n",
       "      <td>89</td>\n",
       "      <td>90</td>\n",
       "      <td>89</td>\n",
       "      <td>268</td>\n",
       "      <td>89.0</td>\n",
       "    </tr>\n",
       "    <tr>\n",
       "      <th>4</th>\n",
       "      <td>5</td>\n",
       "      <td>Uzzma</td>\n",
       "      <td>16-04-1997</td>\n",
       "      <td>Mscit</td>\n",
       "      <td>78</td>\n",
       "      <td>88</td>\n",
       "      <td>89</td>\n",
       "      <td>255</td>\n",
       "      <td>85.0</td>\n",
       "    </tr>\n",
       "    <tr>\n",
       "      <th>5</th>\n",
       "      <td>6</td>\n",
       "      <td>abcd</td>\n",
       "      <td>NaN</td>\n",
       "      <td>Mscit</td>\n",
       "      <td>90</td>\n",
       "      <td>99</td>\n",
       "      <td>90</td>\n",
       "      <td>279</td>\n",
       "      <td>93.0</td>\n",
       "    </tr>\n",
       "  </tbody>\n",
       "</table>\n",
       "</div>"
      ],
      "text/plain": [
       "   srNo   Student   BirthDate Course  ws  cs  ai  total  percentage\n",
       "0     1   Bhavdip  23-10-2002  Mscit  90  80  90    260        87.0\n",
       "1     2  Digvijay  15-11-2002  Mscit  89  78  89    256        85.0\n",
       "2     3      Smit  11-15-2002  Mscit  90  90  78    258        86.0\n",
       "3     4    Tejasv  10-06-2003  Mscit  89  90  89    268        89.0\n",
       "4     5     Uzzma  16-04-1997  Mscit  78  88  89    255        85.0\n",
       "5     6      abcd         NaN  Mscit  90  99  90    279        93.0"
      ]
     },
     "execution_count": 267,
     "metadata": {},
     "output_type": "execute_result"
    }
   ],
   "source": [
    "students['percentage'] = np.round(students['total'] / 3)\n",
    "students"
   ]
  },
  {
   "cell_type": "code",
   "execution_count": 275,
   "id": "05dec171",
   "metadata": {},
   "outputs": [],
   "source": [
    "students.to_csv('students.csv',index=False)"
   ]
  },
  {
   "cell_type": "code",
   "execution_count": 303,
   "id": "41f235c0",
   "metadata": {},
   "outputs": [
    {
     "data": {
      "text/html": [
       "<div>\n",
       "<style scoped>\n",
       "    .dataframe tbody tr th:only-of-type {\n",
       "        vertical-align: middle;\n",
       "    }\n",
       "\n",
       "    .dataframe tbody tr th {\n",
       "        vertical-align: top;\n",
       "    }\n",
       "\n",
       "    .dataframe thead th {\n",
       "        text-align: right;\n",
       "    }\n",
       "</style>\n",
       "<table border=\"1\" class=\"dataframe\">\n",
       "  <thead>\n",
       "    <tr style=\"text-align: right;\">\n",
       "      <th></th>\n",
       "      <th>srNo</th>\n",
       "      <th>Student</th>\n",
       "      <th>BirthDate</th>\n",
       "      <th>Course</th>\n",
       "      <th>ws</th>\n",
       "      <th>cs</th>\n",
       "      <th>ai</th>\n",
       "      <th>total</th>\n",
       "      <th>percentage</th>\n",
       "    </tr>\n",
       "  </thead>\n",
       "  <tbody>\n",
       "    <tr>\n",
       "      <th>0</th>\n",
       "      <td>1</td>\n",
       "      <td>Bhavdip</td>\n",
       "      <td>23-10-2002</td>\n",
       "      <td>Mscit</td>\n",
       "      <td>90</td>\n",
       "      <td>80</td>\n",
       "      <td>90</td>\n",
       "      <td>260</td>\n",
       "      <td>87.0</td>\n",
       "    </tr>\n",
       "    <tr>\n",
       "      <th>1</th>\n",
       "      <td>2</td>\n",
       "      <td>Digvijay</td>\n",
       "      <td>15-11-2002</td>\n",
       "      <td>Mscit</td>\n",
       "      <td>89</td>\n",
       "      <td>78</td>\n",
       "      <td>89</td>\n",
       "      <td>256</td>\n",
       "      <td>85.0</td>\n",
       "    </tr>\n",
       "    <tr>\n",
       "      <th>2</th>\n",
       "      <td>3</td>\n",
       "      <td>Smit</td>\n",
       "      <td>11-15-2002</td>\n",
       "      <td>Mscit</td>\n",
       "      <td>90</td>\n",
       "      <td>90</td>\n",
       "      <td>78</td>\n",
       "      <td>258</td>\n",
       "      <td>86.0</td>\n",
       "    </tr>\n",
       "    <tr>\n",
       "      <th>3</th>\n",
       "      <td>4</td>\n",
       "      <td>Tejasv</td>\n",
       "      <td>10-06-2003</td>\n",
       "      <td>Mscit</td>\n",
       "      <td>89</td>\n",
       "      <td>90</td>\n",
       "      <td>89</td>\n",
       "      <td>268</td>\n",
       "      <td>89.0</td>\n",
       "    </tr>\n",
       "    <tr>\n",
       "      <th>4</th>\n",
       "      <td>5</td>\n",
       "      <td>Uzzma</td>\n",
       "      <td>16-04-1997</td>\n",
       "      <td>Mscit</td>\n",
       "      <td>78</td>\n",
       "      <td>88</td>\n",
       "      <td>89</td>\n",
       "      <td>255</td>\n",
       "      <td>85.0</td>\n",
       "    </tr>\n",
       "    <tr>\n",
       "      <th>5</th>\n",
       "      <td>6</td>\n",
       "      <td>abcd</td>\n",
       "      <td>NaN</td>\n",
       "      <td>Mscit</td>\n",
       "      <td>90</td>\n",
       "      <td>99</td>\n",
       "      <td>90</td>\n",
       "      <td>279</td>\n",
       "      <td>93.0</td>\n",
       "    </tr>\n",
       "  </tbody>\n",
       "</table>\n",
       "</div>"
      ],
      "text/plain": [
       "   srNo   Student   BirthDate Course  ws  cs  ai  total  percentage\n",
       "0     1   Bhavdip  23-10-2002  Mscit  90  80  90    260        87.0\n",
       "1     2  Digvijay  15-11-2002  Mscit  89  78  89    256        85.0\n",
       "2     3      Smit  11-15-2002  Mscit  90  90  78    258        86.0\n",
       "3     4    Tejasv  10-06-2003  Mscit  89  90  89    268        89.0\n",
       "4     5     Uzzma  16-04-1997  Mscit  78  88  89    255        85.0\n",
       "5     6      abcd         NaN  Mscit  90  99  90    279        93.0"
      ]
     },
     "execution_count": 303,
     "metadata": {},
     "output_type": "execute_result"
    }
   ],
   "source": [
    "students = pd.read_csv('students.csv')\n",
    "students"
   ]
  },
  {
   "cell_type": "code",
   "execution_count": 279,
   "id": "30407eaf",
   "metadata": {},
   "outputs": [
    {
     "data": {
      "text/plain": [
       "87.5"
      ]
     },
     "execution_count": 279,
     "metadata": {},
     "output_type": "execute_result"
    }
   ],
   "source": [
    "students['percentage'].mean()"
   ]
  },
  {
   "cell_type": "code",
   "execution_count": 285,
   "id": "0cac4caf",
   "metadata": {},
   "outputs": [
    {
     "data": {
      "text/plain": [
       "0    85.0\n",
       "Name: percentage, dtype: float64"
      ]
     },
     "execution_count": 285,
     "metadata": {},
     "output_type": "execute_result"
    }
   ],
   "source": [
    "mode = students['percentage'].mode()\n",
    "mode "
   ]
  },
  {
   "cell_type": "code",
   "execution_count": 286,
   "id": "58aa7c92",
   "metadata": {},
   "outputs": [
    {
     "data": {
      "text/plain": [
       "86.5"
      ]
     },
     "execution_count": 286,
     "metadata": {},
     "output_type": "execute_result"
    }
   ],
   "source": [
    "students['percentage'].median()"
   ]
  },
  {
   "cell_type": "code",
   "execution_count": 290,
   "id": "593ba7db",
   "metadata": {},
   "outputs": [],
   "source": [
    "import matplotlib.pyplot as plt"
   ]
  },
  {
   "cell_type": "code",
   "execution_count": 292,
   "id": "ff41ed51",
   "metadata": {},
   "outputs": [
    {
     "data": {
      "image/png": "[encoded data removed]",
      "text/plain": [
       "<Figure size 640x480 with 1 Axes>"
      ]
     },
     "metadata": {},
     "output_type": "display_data"
    }
   ],
   "source": [
    "students.plot()\n",
    "plt.show()"
   ]
  },
  {
   "cell_type": "code",
   "execution_count": 295,
   "id": "22c364e8",
   "metadata": {},
   "outputs": [
    {
     "data": {
      "image/png": "[encoded data removed]",
      "text/plain": [
       "<Figure size 640x480 with 1 Axes>"
      ]
     },
     "metadata": {},
     "output_type": "display_data"
    }
   ],
   "source": [
    "students.plot(kind='scatter',x='Student',y='percentage')\n",
    "plt.show()"
   ]
  },
  {
   "cell_type": "code",
   "execution_count": 297,
   "id": "d258d3fc",
   "metadata": {},
   "outputs": [
    {
     "data": {
      "image/png": "[encoded data removed]",
      "text/plain": [
       "<Figure size 640x480 with 1 Axes>"
      ]
     },
     "metadata": {},
     "output_type": "display_data"
    }
   ],
   "source": [
    "students.plot(kind='hist')\n",
    "plt.show()"
   ]
  },
  {
   "cell_type": "code",
   "execution_count": 316,
   "id": "165d48b0",
   "metadata": {},
   "outputs": [
    {
     "data": {
      "image/png": "[encoded data removed]",
      "text/plain": [
       "<Figure size 640x480 with 1 Axes>"
      ]
     },
     "metadata": {},
     "output_type": "display_data"
    }
   ],
   "source": [
    "\n",
    "plt.plot(students['Student'],students['ws'],students['cs'])\n",
    "plt.show()"
   ]
  },
  {
   "cell_type": "code",
   "execution_count": 346,
   "id": "e99e483c",
   "metadata": {},
   "outputs": [
    {
     "data": {
      "text/plain": [
       "Text(0.5, 0.98, 'Students Data')"
      ]
     },
     "execution_count": 346,
     "metadata": {},
     "output_type": "execute_result"
    },
    {
     "data": {
      "image/png": "[encoded data removed]",
      "text/plain": [
       "<Figure size 640x480 with 2 Axes>"
      ]
     },
     "metadata": {},
     "output_type": "display_data"
    }
   ],
   "source": [
    "plt.subplot(2,1,1)\n",
    "plt.title('p1')\n",
    "plt.grid(axis='x')\n",
    "plt.plot(students['Student'],students['percentage'],marker='X',ms=10,mec='r',mfc='b',linestyle='dashdot',color='g',linewidth=1)\n",
    "\n",
    "plt.subplot(2,1,2)\n",
    "plt.title('p1')\n",
    "plt.plot(students['Student'],students['total'],marker='X',ms=10,mec='r',mfc='b',linestyle='dashdot',color='g',linewidth=1)\n",
    "\n",
    "plt.grid()\n",
    "#plt.grid(axis='x')\n",
    "#plt.grid(axis='y')\n",
    "plt.suptitle('Students Data')"
   ]
  },
  {
   "cell_type": "code",
   "execution_count": 351,
   "id": "8a151857",
   "metadata": {},
   "outputs": [
    {
     "data": {
      "image/png": "[encoded data removed]",
      "text/plain": [
       "<Figure size 640x480 with 1 Axes>"
      ]
     },
     "metadata": {},
     "output_type": "display_data"
    }
   ],
   "source": [
    "plt.scatter(students['Student'],students['total'],s=40,c='r')\n",
    "plt.show()"
   ]
  },
  {
   "cell_type": "code",
   "execution_count": 354,
   "id": "3ae6e278",
   "metadata": {},
   "outputs": [
    {
     "data": {
      "image/png": "[encoded data removed]",
      "text/plain": [
       "<Figure size 640x480 with 1 Axes>"
      ]
     },
     "metadata": {},
     "output_type": "display_data"
    }
   ],
   "source": [
    "plt.scatter(students['Student'],students['total'],c='b',s=10,alpha=0.5)\n",
    "plt.show()"
   ]
  },
  {
   "cell_type": "code",
   "execution_count": 357,
   "id": "2056ee46",
   "metadata": {},
   "outputs": [
    {
     "data": {
      "image/png": "[encoded data removed]",
      "text/plain": [
       "<Figure size 640x480 with 1 Axes>"
      ]
     },
     "metadata": {},
     "output_type": "display_data"
    }
   ],
   "source": [
    "plt.scatter(students['Student'],students['percentage'],marker='*',c='g')\n",
    "plt.show()"
   ]
  },
  {
   "cell_type": "code",
   "execution_count": 363,
   "id": "7035e355",
   "metadata": {},
   "outputs": [
    {
     "data": {
      "image/png": "[encoded data removed]",
      "text/plain": [
       "<Figure size 640x480 with 1 Axes>"
      ]
     },
     "metadata": {},
     "output_type": "display_data"
    }
   ],
   "source": [
    "plt.bar(students['Student'],students['percentage'])\n",
    "plt.show()"
   ]
  },
  {
   "cell_type": "code",
   "execution_count": 373,
   "id": "531e0ac8",
   "metadata": {},
   "outputs": [
    {
     "data": {
      "image/png": "[encoded data removed]",
      "text/plain": [
       "<Figure size 640x480 with 1 Axes>"
      ]
     },
     "metadata": {},
     "output_type": "display_data"
    }
   ],
   "source": [
    "plt.barh(students['Student'],students['total'])\n",
    "plt.show()"
   ]
  },
  {
   "cell_type": "code",
   "execution_count": 386,
   "id": "0bc70609",
   "metadata": {},
   "outputs": [
    {
     "data": {
      "image/png": "[encoded data removed]",
      "text/plain": [
       "<Figure size 640x480 with 1 Axes>"
      ]
     },
     "metadata": {},
     "output_type": "display_data"
    }
   ],
   "source": [
    "plt.bar(students['Student'],students['percentage'],color='g',width=0.5)\n",
    "plt.show()"
   ]
  },
  {
   "cell_type": "code",
   "execution_count": 387,
   "id": "ea3e74b5",
   "metadata": {},
   "outputs": [
    {
     "data": {
      "image/png": "[encoded data removed]",
      "text/plain": [
       "<Figure size 640x480 with 1 Axes>"
      ]
     },
     "metadata": {},
     "output_type": "display_data"
    }
   ],
   "source": [
    "plt.barh(students['Student'],students['total'],height=0.5)\n",
    "plt.show()"
   ]
  },
  {
   "cell_type": "code",
   "execution_count": 393,
   "id": "c15a25a4",
   "metadata": {},
   "outputs": [
    {
     "data": {
      "image/png": "[encoded data removed]",
      "text/plain": [
       "<Figure size 640x480 with 1 Axes>"
      ]
     },
     "metadata": {},
     "output_type": "display_data"
    }
   ],
   "source": [
    "plt.hist(students['total'],color='b',width=0.8)\n",
    "plt.show()"
   ]
  },
  {
   "cell_type": "code",
   "execution_count": 430,
   "id": "0fdcaba6",
   "metadata": {},
   "outputs": [
    {
     "data": {
      "image/png": "[encoded data removed]",
      "text/plain": [
       "<Figure size 640x480 with 1 Axes>"
      ]
     },
     "metadata": {},
     "output_type": "display_data"
    }
   ],
   "source": [
    "plt.pie(students['percentage'],labels=students['Student'],colors=['r','g','b','m','y','pink'],explode=[0,0,0.1,0,0,0],startangle=90,shadow=True)\n",
    "plt.legend(title='Result',loc='center')\n",
    "plt.show()"
   ]
  }
 ],
 "metadata": {
  "kernelspec": {
   "display_name": "Python 3 (ipykernel)",
   "language": "python",
   "name": "python3"
  },
  "language_info": {
   "codemirror_mode": {
    "name": "ipython",
    "version": 3
   },
   "file_extension": ".py",
   "mimetype": "text/x-python",
   "name": "python",
   "nbconvert_exporter": "python",
   "pygments_lexer": "ipython3",
   "version": "3.11.5"
  }
 },
 "nbformat": 4,
 "nbformat_minor": 5
}
