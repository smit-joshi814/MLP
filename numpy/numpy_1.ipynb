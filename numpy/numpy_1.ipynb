{
 "cells": [
  {
   "cell_type": "code",
   "execution_count": 3,
   "id": "fe61c61b",
   "metadata": {},
   "outputs": [
    {
     "name": "stdout",
     "output_type": "stream",
     "text": [
      "helloworld\n"
     ]
    }
   ],
   "source": [
    "print(\"hello world\")"
   ]
  },
  {
   "cell_type": "code",
   "execution_count": 1,
   "id": "5271208a",
   "metadata": {},
   "outputs": [],
   "source": [
    "import numpy as np\n"
   ]
  },
  {
   "cell_type": "code",
   "execution_count": 60,
   "id": "82884d1a",
   "metadata": {},
   "outputs": [],
   "source": [
    "a=np.array([1,2,3,4,5])"
   ]
  },
  {
   "cell_type": "code",
   "execution_count": 59,
   "id": "46d17232",
   "metadata": {},
   "outputs": [
    {
     "name": "stdout",
     "output_type": "stream",
     "text": [
      "array a:int64\n"
     ]
    }
   ],
   "source": [
    "print(f\"array a:{a.dtype}\")"
   ]
  },
  {
   "cell_type": "code",
   "execution_count": 19,
   "id": "2b896327",
   "metadata": {},
   "outputs": [
    {
     "name": "stdout",
     "output_type": "stream",
     "text": [
      "ndim: 1\n",
      "size: 5\n",
      "shape: (5,)\n",
      "datatype: int64\n",
      "itemsize: 8 <- indivisual element'size\n"
     ]
    }
   ],
   "source": [
    "print(f\"ndim: {a.ndim}\")\n",
    "print(f\"size: {a.size}\")\n",
    "print(f\"shape: {a.shape}\")\n",
    "print(f\"datatype: {a.dtype}\")\n",
    "print(f\"itemsize: {a.itemsize} <- indivisual element'size\")"
   ]
  },
  {
   "cell_type": "code",
   "execution_count": 48,
   "id": "1e099f9d",
   "metadata": {},
   "outputs": [
    {
     "name": "stdout",
     "output_type": "stream",
     "text": [
      "[[11 23 31]\n",
      " [13 22 33]]\n"
     ]
    }
   ],
   "source": [
    "multi=np.array([[1,3,1],[3,2,3]])\n",
    "multi2=np.array([[10,20,30],[10,20,30]])\n",
    "print(np.add(multi,multi2))"
   ]
  },
  {
   "cell_type": "code",
   "execution_count": 53,
   "id": "8cf5730c",
   "metadata": {},
   "outputs": [
    {
     "name": "stdout",
     "output_type": "stream",
     "text": [
      "ADD: [ 2  4  6  8 10]\n",
      "MULTIPLY: [ 1  4  9 16 25]\n",
      "SUBTRACT: [0 0 0 0 0]\n",
      "DIVIDE: [1. 1. 1. 1. 1.]\n",
      "POWER: [   1    4   27  256 3125]\n",
      "REMIND [0 0 0 0 0]\n",
      "[1 2 3 4 5]\n"
     ]
    }
   ],
   "source": [
    "b=np.array([1,2,3,4,5])\n",
    "c=np.add(a,b)\n",
    "print(\"ADD:\",c)\n",
    "c=np.multiply(a,b)\n",
    "print(\"MULTIPLY:\",c)\n",
    "c=np.subtract(a,b)\n",
    "print(\"SUBTRACT:\",c)\n",
    "c=np.divide(a,b)\n",
    "print(\"DIVIDE:\",c)\n",
    "c=np.power(a,b)\n",
    "print(\"POWER:\",c)\n",
    "c=np.mod(a,b)\n",
    "print(\"REMIND\",c)\n",
    "c=np.abs(a,b)\n",
    "print(c)"
   ]
  },
  {
   "cell_type": "code",
   "execution_count": 65,
   "id": "b9a5bf28",
   "metadata": {},
   "outputs": [
    {
     "name": "stdout",
     "output_type": "stream",
     "text": [
      "ndim: 1\n",
      "size: 3\n",
      "shape: (3,)\n",
      "datatype: <U1\n",
      "itemsize: 4 <- indivisual element'size\n"
     ]
    }
   ],
   "source": [
    "d=np.array(['z','v','d'])\n",
    "print(f\"ndim: {d.ndim}\")\n",
    "print(f\"size: {d.size}\")\n",
    "print(f\"shape: {d.shape}\")\n",
    "print(f\"datatype: {d.dtype}\")\n",
    "print(f\"itemsize: {d.itemsize} <- indivisual element'size\")"
   ]
  },
  {
   "cell_type": "code",
   "execution_count": 80,
   "id": "db9238a5",
   "metadata": {},
   "outputs": [
    {
     "name": "stdout",
     "output_type": "stream",
     "text": [
      "[[0. 0. 0. 0.]\n",
      " [0. 0. 0. 0.]\n",
      " [0. 0. 0. 0.]\n",
      " [0. 0. 0. 0.]] [[1. 1. 1.]\n",
      " [1. 1. 1.]\n",
      " [1. 1. 1.]] [[5.e-324]] [1 2 3 4] [1.         1.16666667 1.33333333 1.5        1.66666667 1.83333333\n",
      " 2.        ] [[0.07588768 0.10311849 0.60183563 0.05093808 0.26491174]]\n"
     ]
    }
   ],
   "source": [
    "z=np.zeros((4,4))\n",
    "o=np.ones((3,3))\n",
    "e=np.empty((1,1))\n",
    "ar=np.arange(1,5,1)\n",
    "ls=np.linspace(1,2,7)\n",
    "rn=np.random.random((1,5))\n",
    "print(z,o,e,ar,ls,rn)\n"
   ]
  }
 ],
 "metadata": {
  "kernelspec": {
   "display_name": "Python 3 (ipykernel)",
   "language": "python",
   "name": "python3"
  },
  "language_info": {
   "codemirror_mode": {
    "name": "ipython",
    "version": 3
   },
   "file_extension": ".py",
   "mimetype": "text/x-python",
   "name": "python",
   "nbconvert_exporter": "python",
   "pygments_lexer": "ipython3",
   "version": "3.11.5"
  }
 },
 "nbformat": 4,
 "nbformat_minor": 5
}
